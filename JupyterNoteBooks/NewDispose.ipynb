{
 "cells": [
  {
   "cell_type": "code",
   "execution_count": 2,
   "id": "99eb05e0-9ccb-45fa-92bb-c7f1ba94ca83",
   "metadata": {},
   "outputs": [],
   "source": [
    "import pandas as pd"
   ]
  },
  {
   "cell_type": "code",
   "execution_count": 55,
   "id": "2a330690-f050-486e-978a-80159a265f2e",
   "metadata": {},
   "outputs": [],
   "source": [
    "df = pd.read_csv(r\"/home/ahsan/Desktop/Scraping-Automation/Documents/new_disposable_domains.csv\")"
   ]
  },
  {
   "cell_type": "code",
   "execution_count": 56,
   "id": "8ad7af9b-4de2-46c9-b82f-83c2c5dc3f7b",
   "metadata": {},
   "outputs": [
    {
     "data": {
      "text/html": [
       "<div>\n",
       "<style scoped>\n",
       "    .dataframe tbody tr th:only-of-type {\n",
       "        vertical-align: middle;\n",
       "    }\n",
       "\n",
       "    .dataframe tbody tr th {\n",
       "        vertical-align: top;\n",
       "    }\n",
       "\n",
       "    .dataframe thead th {\n",
       "        text-align: right;\n",
       "    }\n",
       "</style>\n",
       "<table border=\"1\" class=\"dataframe\">\n",
       "  <thead>\n",
       "    <tr style=\"text-align: right;\">\n",
       "      <th></th>\n",
       "      <th>Name</th>\n",
       "      <th>Source</th>\n",
       "      <th>Date</th>\n",
       "    </tr>\n",
       "  </thead>\n",
       "  <tbody>\n",
       "    <tr>\n",
       "      <th>0</th>\n",
       "      <td>00000000000000000000.nl</td>\n",
       "      <td>Database</td>\n",
       "      <td>NaN</td>\n",
       "    </tr>\n",
       "    <tr>\n",
       "      <th>1</th>\n",
       "      <td>00000.ing</td>\n",
       "      <td>Database</td>\n",
       "      <td>NaN</td>\n",
       "    </tr>\n",
       "    <tr>\n",
       "      <th>2</th>\n",
       "      <td>001942.xyz</td>\n",
       "      <td>Database</td>\n",
       "      <td>NaN</td>\n",
       "    </tr>\n",
       "    <tr>\n",
       "      <th>3</th>\n",
       "      <td>005-elektronik.de</td>\n",
       "      <td>Database</td>\n",
       "      <td>NaN</td>\n",
       "    </tr>\n",
       "    <tr>\n",
       "      <th>4</th>\n",
       "      <td>005-elektronik-shop.de</td>\n",
       "      <td>Database</td>\n",
       "      <td>NaN</td>\n",
       "    </tr>\n",
       "  </tbody>\n",
       "</table>\n",
       "</div>"
      ],
      "text/plain": [
       "                      Name    Source Date\n",
       "0  00000000000000000000.nl  Database  NaN\n",
       "1                00000.ing  Database  NaN\n",
       "2               001942.xyz  Database  NaN\n",
       "3        005-elektronik.de  Database  NaN\n",
       "4   005-elektronik-shop.de  Database  NaN"
      ]
     },
     "execution_count": 56,
     "metadata": {},
     "output_type": "execute_result"
    }
   ],
   "source": [
    "df.head(5)"
   ]
  },
  {
   "cell_type": "code",
   "execution_count": 57,
   "id": "2257985f-7c2d-47db-b618-65c6bf7902a5",
   "metadata": {},
   "outputs": [
    {
     "data": {
      "text/plain": [
       "0"
      ]
     },
     "execution_count": 57,
     "metadata": {},
     "output_type": "execute_result"
    }
   ],
   "source": [
    "len(df[df['Name'].duplicated() == True])"
   ]
  },
  {
   "cell_type": "code",
   "execution_count": 58,
   "id": "1b8b2c43-6e95-446d-9208-6d59b0a116c4",
   "metadata": {},
   "outputs": [
    {
     "name": "stdout",
     "output_type": "stream",
     "text": [
      "188308\n"
     ]
    }
   ],
   "source": [
    "filtered_df = df[df['Source'].notna()]\n",
    "\n",
    "# Display the filtered DataFrame\n",
    "print(len(filtered_df))"
   ]
  },
  {
   "cell_type": "code",
   "execution_count": 59,
   "id": "98adec55-8d5b-46cc-9c0f-b59e34e04d64",
   "metadata": {},
   "outputs": [],
   "source": [
    "df['Source'].fillna('Database', inplace=True)"
   ]
  },
  {
   "cell_type": "code",
   "execution_count": 60,
   "id": "5fab16cb-c4ca-4e1f-9574-b4ff5c830212",
   "metadata": {},
   "outputs": [
    {
     "data": {
      "text/html": [
       "<div>\n",
       "<style scoped>\n",
       "    .dataframe tbody tr th:only-of-type {\n",
       "        vertical-align: middle;\n",
       "    }\n",
       "\n",
       "    .dataframe tbody tr th {\n",
       "        vertical-align: top;\n",
       "    }\n",
       "\n",
       "    .dataframe thead th {\n",
       "        text-align: right;\n",
       "    }\n",
       "</style>\n",
       "<table border=\"1\" class=\"dataframe\">\n",
       "  <thead>\n",
       "    <tr style=\"text-align: right;\">\n",
       "      <th></th>\n",
       "      <th>Name</th>\n",
       "      <th>Source</th>\n",
       "      <th>Date</th>\n",
       "    </tr>\n",
       "  </thead>\n",
       "  <tbody>\n",
       "    <tr>\n",
       "      <th>0</th>\n",
       "      <td>00000000000000000000.nl</td>\n",
       "      <td>Database</td>\n",
       "      <td>NaN</td>\n",
       "    </tr>\n",
       "    <tr>\n",
       "      <th>1</th>\n",
       "      <td>00000.ing</td>\n",
       "      <td>Database</td>\n",
       "      <td>NaN</td>\n",
       "    </tr>\n",
       "    <tr>\n",
       "      <th>2</th>\n",
       "      <td>001942.xyz</td>\n",
       "      <td>Database</td>\n",
       "      <td>NaN</td>\n",
       "    </tr>\n",
       "    <tr>\n",
       "      <th>3</th>\n",
       "      <td>005-elektronik.de</td>\n",
       "      <td>Database</td>\n",
       "      <td>NaN</td>\n",
       "    </tr>\n",
       "    <tr>\n",
       "      <th>4</th>\n",
       "      <td>005-elektronik-shop.de</td>\n",
       "      <td>Database</td>\n",
       "      <td>NaN</td>\n",
       "    </tr>\n",
       "  </tbody>\n",
       "</table>\n",
       "</div>"
      ],
      "text/plain": [
       "                      Name    Source Date\n",
       "0  00000000000000000000.nl  Database  NaN\n",
       "1                00000.ing  Database  NaN\n",
       "2               001942.xyz  Database  NaN\n",
       "3        005-elektronik.de  Database  NaN\n",
       "4   005-elektronik-shop.de  Database  NaN"
      ]
     },
     "execution_count": 60,
     "metadata": {},
     "output_type": "execute_result"
    }
   ],
   "source": [
    "df.head()"
   ]
  },
  {
   "cell_type": "code",
   "execution_count": 61,
   "id": "7c454e58-9090-497e-a9df-a0aaae4295fb",
   "metadata": {},
   "outputs": [
    {
     "data": {
      "text/plain": [
       "(188308, 3)"
      ]
     },
     "execution_count": 61,
     "metadata": {},
     "output_type": "execute_result"
    }
   ],
   "source": [
    "df.shape"
   ]
  },
  {
   "cell_type": "code",
   "execution_count": null,
   "id": "1a3c783e-d809-4973-a4bc-6e16ac044792",
   "metadata": {},
   "outputs": [],
   "source": [
    "df['Date'].fillna('2024-06-04', inplace=True)"
   ]
  },
  {
   "cell_type": "code",
   "execution_count": 53,
   "id": "56aa5e46-493e-48db-8438-d120bb2ef8b9",
   "metadata": {},
   "outputs": [],
   "source": [
    "df.to_csv(r\"/home/ahsan/Desktop/Scraping-Automation/Documents/new_disposable_domains.csv\", index=False) "
   ]
  },
  {
   "cell_type": "code",
   "execution_count": 67,
   "id": "7c82b051-7c82-4f37-b6cc-0845c278b08e",
   "metadata": {},
   "outputs": [
    {
     "name": "stdout",
     "output_type": "stream",
     "text": [
      "Merged CSV saved to /home/ahsan/Desktop/Scraping-Automation/Documents/Updated Domains With Sources.csv\n"
     ]
    }
   ],
   "source": [
    "import pandas as pd\n",
    "\n",
    "# Load the CSV files\n",
    "csv1_path = r\"/home/ahsan/Desktop/Scraping-Automation/Documents/new_disposable_domains.csv\"\n",
    "csv2_path = r\"/home/ahsan/Desktop/Scraping-Automation/Documents/disposable-domains.csv\"\n",
    "\n",
    "df1 = pd.read_csv(csv1_path)\n",
    "df2 = pd.read_csv(csv2_path)\n",
    "\n",
    "# Merge the dataframes, removing duplicates based on the 'Domain' column, keeping the content from the first dataframe\n",
    "df_merged = pd.concat([df1, df2[~df2['Name'].isin(df1['Name'])]])\n",
    "\n",
    "# Save the merged dataframe to a new CSV file\n",
    "merged_csv_path = r\"/home/ahsan/Desktop/Scraping-Automation/Documents/Updated Domains With Sources.csv\"\n",
    "df_merged.to_csv(merged_csv_path, index=False)\n",
    "\n",
    "print(f\"Merged CSV saved to {merged_csv_path}\")\n"
   ]
  },
  {
   "cell_type": "code",
   "execution_count": 68,
   "id": "9febef06-0c69-407e-8e21-081c5e12511b",
   "metadata": {},
   "outputs": [
    {
     "data": {
      "text/html": [
       "<div>\n",
       "<style scoped>\n",
       "    .dataframe tbody tr th:only-of-type {\n",
       "        vertical-align: middle;\n",
       "    }\n",
       "\n",
       "    .dataframe tbody tr th {\n",
       "        vertical-align: top;\n",
       "    }\n",
       "\n",
       "    .dataframe thead th {\n",
       "        text-align: right;\n",
       "    }\n",
       "</style>\n",
       "<table border=\"1\" class=\"dataframe\">\n",
       "  <thead>\n",
       "    <tr style=\"text-align: right;\">\n",
       "      <th></th>\n",
       "      <th>Name</th>\n",
       "      <th>Source</th>\n",
       "      <th>Date</th>\n",
       "    </tr>\n",
       "  </thead>\n",
       "  <tbody>\n",
       "    <tr>\n",
       "      <th>0</th>\n",
       "      <td>00000000000000000000.nl</td>\n",
       "      <td>Database</td>\n",
       "      <td>NaN</td>\n",
       "    </tr>\n",
       "    <tr>\n",
       "      <th>1</th>\n",
       "      <td>00000.ing</td>\n",
       "      <td>Database</td>\n",
       "      <td>NaN</td>\n",
       "    </tr>\n",
       "    <tr>\n",
       "      <th>2</th>\n",
       "      <td>001942.xyz</td>\n",
       "      <td>Database</td>\n",
       "      <td>NaN</td>\n",
       "    </tr>\n",
       "    <tr>\n",
       "      <th>3</th>\n",
       "      <td>005-elektronik.de</td>\n",
       "      <td>Database</td>\n",
       "      <td>NaN</td>\n",
       "    </tr>\n",
       "    <tr>\n",
       "      <th>4</th>\n",
       "      <td>005-elektronik-shop.de</td>\n",
       "      <td>Database</td>\n",
       "      <td>NaN</td>\n",
       "    </tr>\n",
       "  </tbody>\n",
       "</table>\n",
       "</div>"
      ],
      "text/plain": [
       "                      Name    Source Date\n",
       "0  00000000000000000000.nl  Database  NaN\n",
       "1                00000.ing  Database  NaN\n",
       "2               001942.xyz  Database  NaN\n",
       "3        005-elektronik.de  Database  NaN\n",
       "4   005-elektronik-shop.de  Database  NaN"
      ]
     },
     "execution_count": 68,
     "metadata": {},
     "output_type": "execute_result"
    }
   ],
   "source": [
    "df1.head()"
   ]
  },
  {
   "cell_type": "code",
   "execution_count": 69,
   "id": "67dfd2e4-1210-41bd-9524-767e99b643d0",
   "metadata": {},
   "outputs": [
    {
     "data": {
      "text/html": [
       "<div>\n",
       "<style scoped>\n",
       "    .dataframe tbody tr th:only-of-type {\n",
       "        vertical-align: middle;\n",
       "    }\n",
       "\n",
       "    .dataframe tbody tr th {\n",
       "        vertical-align: top;\n",
       "    }\n",
       "\n",
       "    .dataframe thead th {\n",
       "        text-align: right;\n",
       "    }\n",
       "</style>\n",
       "<table border=\"1\" class=\"dataframe\">\n",
       "  <thead>\n",
       "    <tr style=\"text-align: right;\">\n",
       "      <th></th>\n",
       "      <th>Name</th>\n",
       "      <th>Source</th>\n",
       "      <th>Date</th>\n",
       "    </tr>\n",
       "  </thead>\n",
       "  <tbody>\n",
       "    <tr>\n",
       "      <th>0</th>\n",
       "      <td>pervej.com</td>\n",
       "      <td>NaN</td>\n",
       "      <td>NaN</td>\n",
       "    </tr>\n",
       "    <tr>\n",
       "      <th>1</th>\n",
       "      <td>mailer9.net</td>\n",
       "      <td>mailcheck.ai</td>\n",
       "      <td>2024-06-04</td>\n",
       "    </tr>\n",
       "    <tr>\n",
       "      <th>2</th>\n",
       "      <td>fxmail.ws</td>\n",
       "      <td>mailcheck.ai</td>\n",
       "      <td>2024-06-04</td>\n",
       "    </tr>\n",
       "    <tr>\n",
       "      <th>3</th>\n",
       "      <td>wmail2.net</td>\n",
       "      <td>mailcheck.ai</td>\n",
       "      <td>2024-06-04</td>\n",
       "    </tr>\n",
       "    <tr>\n",
       "      <th>4</th>\n",
       "      <td>return0927.xyz</td>\n",
       "      <td>NaN</td>\n",
       "      <td>NaN</td>\n",
       "    </tr>\n",
       "  </tbody>\n",
       "</table>\n",
       "</div>"
      ],
      "text/plain": [
       "             Name        Source        Date\n",
       "0      pervej.com           NaN         NaN\n",
       "1     mailer9.net  mailcheck.ai  2024-06-04\n",
       "2       fxmail.ws  mailcheck.ai  2024-06-04\n",
       "3      wmail2.net  mailcheck.ai  2024-06-04\n",
       "4  return0927.xyz           NaN         NaN"
      ]
     },
     "execution_count": 69,
     "metadata": {},
     "output_type": "execute_result"
    }
   ],
   "source": [
    "df2.head()"
   ]
  },
  {
   "cell_type": "code",
   "execution_count": 70,
   "id": "aef7acec-ab25-44ce-8f7d-4273eeae10aa",
   "metadata": {},
   "outputs": [],
   "source": [
    "merged = pd.read_csv(r\"/home/ahsan/Desktop/Scraping-Automation/Documents/Updated Domains With Sources.csv\")"
   ]
  },
  {
   "cell_type": "code",
   "execution_count": 71,
   "id": "d8f64290-5ec5-497b-810c-d1fee4bde4ec",
   "metadata": {},
   "outputs": [
    {
     "data": {
      "text/plain": [
       "(211507, 3)"
      ]
     },
     "execution_count": 71,
     "metadata": {},
     "output_type": "execute_result"
    }
   ],
   "source": [
    "merged.shape"
   ]
  },
  {
   "cell_type": "code",
   "execution_count": 72,
   "id": "36b18bac-5ece-40d2-a925-93165d45b49f",
   "metadata": {},
   "outputs": [
    {
     "data": {
      "text/html": [
       "<div>\n",
       "<style scoped>\n",
       "    .dataframe tbody tr th:only-of-type {\n",
       "        vertical-align: middle;\n",
       "    }\n",
       "\n",
       "    .dataframe tbody tr th {\n",
       "        vertical-align: top;\n",
       "    }\n",
       "\n",
       "    .dataframe thead th {\n",
       "        text-align: right;\n",
       "    }\n",
       "</style>\n",
       "<table border=\"1\" class=\"dataframe\">\n",
       "  <thead>\n",
       "    <tr style=\"text-align: right;\">\n",
       "      <th></th>\n",
       "      <th>Name</th>\n",
       "      <th>Source</th>\n",
       "      <th>Date</th>\n",
       "    </tr>\n",
       "  </thead>\n",
       "  <tbody>\n",
       "    <tr>\n",
       "      <th>0</th>\n",
       "      <td>00000000000000000000.nl</td>\n",
       "      <td>Database</td>\n",
       "      <td>NaN</td>\n",
       "    </tr>\n",
       "    <tr>\n",
       "      <th>1</th>\n",
       "      <td>00000.ing</td>\n",
       "      <td>Database</td>\n",
       "      <td>NaN</td>\n",
       "    </tr>\n",
       "    <tr>\n",
       "      <th>2</th>\n",
       "      <td>001942.xyz</td>\n",
       "      <td>Database</td>\n",
       "      <td>NaN</td>\n",
       "    </tr>\n",
       "    <tr>\n",
       "      <th>3</th>\n",
       "      <td>005-elektronik.de</td>\n",
       "      <td>Database</td>\n",
       "      <td>NaN</td>\n",
       "    </tr>\n",
       "    <tr>\n",
       "      <th>4</th>\n",
       "      <td>005-elektronik-shop.de</td>\n",
       "      <td>Database</td>\n",
       "      <td>NaN</td>\n",
       "    </tr>\n",
       "  </tbody>\n",
       "</table>\n",
       "</div>"
      ],
      "text/plain": [
       "                      Name    Source Date\n",
       "0  00000000000000000000.nl  Database  NaN\n",
       "1                00000.ing  Database  NaN\n",
       "2               001942.xyz  Database  NaN\n",
       "3        005-elektronik.de  Database  NaN\n",
       "4   005-elektronik-shop.de  Database  NaN"
      ]
     },
     "execution_count": 72,
     "metadata": {},
     "output_type": "execute_result"
    }
   ],
   "source": [
    "merged.head(5)"
   ]
  }
 ],
 "metadata": {
  "kernelspec": {
   "display_name": "Python 3 (ipykernel)",
   "language": "python",
   "name": "python3"
  },
  "language_info": {
   "codemirror_mode": {
    "name": "ipython",
    "version": 3
   },
   "file_extension": ".py",
   "mimetype": "text/x-python",
   "name": "python",
   "nbconvert_exporter": "python",
   "pygments_lexer": "ipython3",
   "version": "3.11.7"
  }
 },
 "nbformat": 4,
 "nbformat_minor": 5
}
